{
 "cells": [
  {
   "cell_type": "code",
   "execution_count": 1,
   "metadata": {},
   "outputs": [
    {
     "name": "stderr",
     "output_type": "stream",
     "text": [
      "[nems.configs.defaults INFO] Saving log messages to /tmp/nems\\NEMS 2020-04-09 153935.log\n",
      "[nems.registry INFO] importing xforms function: ldcol\n"
     ]
    }
   ],
   "source": [
    "import logging\n",
    "\n",
    "import numpy as np\n",
    "from tabulate import tabulate\n",
    "from tqdm.notebook import tqdm\n",
    "\n",
    "from nems import log\n",
    "from nems.modelspec import eval_ms_layer\n",
    "from nems.tf.cnnlink import eval_tf_layer\n",
    "\n",
    "log.setLevel(logging.ERROR)"
   ]
  },
  {
   "cell_type": "code",
   "execution_count": 13,
   "metadata": {},
   "outputs": [],
   "source": [
    "array = np.random.random((20, 100, 18))\n",
    "kern_size = array.shape[-1]\n",
    "out_size = 4\n",
    "\n",
    "layer_specs = [\n",
    "    f'wc.{kern_size}x{out_size}.g',\n",
    "    f'wc.{kern_size}x{out_size}.b',\n",
    "    f'fir.{kern_size}x{out_size}',\n",
    "    f'do.{kern_size}x{out_size}',\n",
    "    f'stategain.{kern_size}x3',\n",
    "    f'relu.{kern_size}',\n",
    "    f'dlog.c{kern_size}',\n",
    "    f'stp.{kern_size}',\n",
    "    f'dexp.{kern_size}',\n",
    "]"
   ]
  },
  {
   "cell_type": "code",
   "execution_count": 14,
   "metadata": {},
   "outputs": [
    {
     "data": {
      "application/vnd.jupyter.widget-view+json": {
       "model_id": "d3b1e17309ee458cae6d83af77d6efaa",
       "version_major": 2,
       "version_minor": 0
      },
      "text/plain": [
       "HBox(children=(FloatProgress(value=0.0, max=9.0), HTML(value='')))"
      ]
     },
     "metadata": {},
     "output_type": "display_data"
    },
    {
     "name": "stdout",
     "output_type": "stream",
     "text": [
      "\n"
     ]
    }
   ],
   "source": [
    "allclose_results = []\n",
    "ms_succs = []\n",
    "tf_succs = []\n",
    "max_diffs = []\n",
    "\n",
    "pbar = tqdm(layer_specs)\n",
    "\n",
    "for layer_spec in pbar:\n",
    "    pbar.set_description(f'Evaluating \"{layer_spec}\"')\n",
    "\n",
    "    ms_succ, tf_succ = False, False\n",
    "    try:\n",
    "        ms_resp = eval_ms_layer(array, layer_spec)\n",
    "        ms_succ = True\n",
    "    except:\n",
    "        pass\n",
    "\n",
    "    try:\n",
    "        tf_resp = eval_tf_layer(array, layer_spec)\n",
    "        tf_succ = True\n",
    "    except:\n",
    "        pass\n",
    "\n",
    "    if not all([ms_succ, tf_succ]):\n",
    "        ms_succs.append(ms_succ)\n",
    "        tf_succs.append(tf_succ)\n",
    "        allclose_results.append('nan')\n",
    "        max_diffs.append('nan')\n",
    "        continue\n",
    "\n",
    "    ms_succs.append(ms_succ)\n",
    "    tf_succs.append(tf_succ)\n",
    "\n",
    "    allclose = np.allclose(ms_resp, tf_resp, rtol=1e-05, atol=1e-05)\n",
    "#     allclose_results.append(allclose)\n",
    "    allclose_results.append(str(allclose))\n",
    "\n",
    "    max_diff = np.max(np.abs(ms_resp - tf_resp))\n",
    "    max_diffs.append(f'{max_diff:.2E}')"
   ]
  },
  {
   "cell_type": "code",
   "execution_count": 15,
   "metadata": {},
   "outputs": [
    {
     "name": "stdout",
     "output_type": "stream",
     "text": [
      "layer           ms ran    tf ran    allclose    max diff\n",
      "--------------  --------  --------  ----------  ----------\n",
      "wc.18x4.g       True      True      True        1.94E-07\n",
      "wc.18x4.b       True      True      True        2.99E-08\n",
      "fir.18x4        True      True      False       5.93E-01\n",
      "do.18x4         False     False     nan         nan\n",
      "stategain.18x3  False     False     nan         nan\n",
      "relu.18         True      True      True        2.98E-08\n",
      "dlog.c18        True      True      True        9.08E-08\n",
      "stp.18          True      True      False       3.02E-02\n",
      "dexp.18         True      True      True        1.19E-07\n"
     ]
    }
   ],
   "source": [
    "print(tabulate(\n",
    "    zip(\n",
    "        layer_specs,\n",
    "        ms_succs,\n",
    "        tf_succs,\n",
    "        allclose_results,\n",
    "        max_diffs,\n",
    "    ),\n",
    "    headers=['layer', 'ms ran', 'tf ran', 'allclose', 'max diff'],\n",
    "    disable_numparse=True,\n",
    "))"
   ]
  }
 ],
 "metadata": {
  "kernelspec": {
   "display_name": "nems-gpu",
   "language": "python",
   "name": "nems-gpu"
  },
  "language_info": {
   "codemirror_mode": {
    "name": "ipython",
    "version": 3
   },
   "file_extension": ".py",
   "mimetype": "text/x-python",
   "name": "python",
   "nbconvert_exporter": "python",
   "pygments_lexer": "ipython3",
   "version": "3.6.10"
  }
 },
 "nbformat": 4,
 "nbformat_minor": 4
}
