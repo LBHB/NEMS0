{
 "cells": [
  {
   "cell_type": "markdown",
   "metadata": {},
   "source": [
    "Code extracted from nems/scripts/demo_script_2p.py"
   ]
  },
  {
   "cell_type": "code",
   "execution_count": 1,
   "metadata": {},
   "outputs": [
    {
     "name": "stderr",
     "output_type": "stream",
     "text": [
      "[nems.configs.defaults INFO] Saving log messages to /tmp/nems/NEMS 2018-12-05 154936.log\n"
     ]
    }
   ],
   "source": [
    "%matplotlib inline\n",
    "import os\n",
    "import logging\n",
    "import pandas as pd\n",
    "import pickle\n",
    "import sys\n",
    "import numpy as np\n",
    "import matplotlib.pyplot as plt\n",
    "\n",
    "from nems.gui.recording_browser import browse_recording, browse_context\n",
    "import nems\n",
    "import nems.initializers\n",
    "import nems.priors\n",
    "import nems.preprocessing as preproc\n",
    "import nems.plots.api as nplt\n",
    "import nems.modelspec as ms\n",
    "import nems.xforms as xforms\n",
    "import nems.utils\n",
    "import nems.uri\n",
    "import nems.recording as recording\n",
    "from nems.signal import RasterizedSignal\n",
    "from nems.fitters.api import scipy_minimize\n",
    "import nems.db as nd\n",
    "\n",
    "log = logging.getLogger(__name__)\n"
   ]
  },
  {
   "cell_type": "markdown",
   "metadata": {},
   "source": [
    "## PARAMETERS AND FILE LOCATIONS ##"
   ]
  },
  {
   "cell_type": "code",
   "execution_count": 3,
   "metadata": {},
   "outputs": [],
   "source": [
    "# data file and results locations\n",
    "# defined in nems/nems/configs/settings.py, which will override\n",
    "# defaults in nems/nems/configs/defaults.py\n",
    "results_dir = nems.get_setting('NEMS_RESULTS_DIR')\n",
    "recordings_dir = nems.get_setting('NEMS_RECORDINGS_DIR')\n",
    "\n",
    "# 2p data from Polley Lab at EPL\n",
    "respfile = os.path.join(recordings_dir, 'data_nems_2p/neurons.csv')\n",
    "stimfile = os.path.join(recordings_dir, 'data_nems_2p/stim_spectrogram.csv')\n",
    "exptid = \"POL001\"\n",
    "cellid = \"POL001-080\"\n",
    "batch = 1  # define the group of data this belong to (eg, 1: A1, 2: AAF, etc)\n",
    "load_command='nems.demo.loaders.load_polley_data'\n"
   ]
  },
  {
   "cell_type": "markdown",
   "metadata": {},
   "source": [
    "Alternatively, this is a more complex model (slower but possibly more accurate):"
   ]
  },
  {
   "cell_type": "code",
   "execution_count": 4,
   "metadata": {},
   "outputs": [],
   "source": [
    "modelspecname = 'dlog-wc.9x2.g-fir.2x15-lvl.1'"
   ]
  },
  {
   "cell_type": "markdown",
   "metadata": {},
   "source": [
    "This one includes short-term plasticity (STP) for each spectral channel. Again, probably not helpful for such a sparse stimulus"
   ]
  },
  {
   "cell_type": "code",
   "execution_count": 5,
   "metadata": {},
   "outputs": [],
   "source": [
    "modelspecname = 'dlog-wcg.18x1-stp.1-fir.1x15-lvl.1-dexp.1'"
   ]
  },
  {
   "cell_type": "markdown",
   "metadata": {},
   "source": [
    "This model schema is simple and fast"
   ]
  },
  {
   "cell_type": "code",
   "execution_count": 4,
   "metadata": {},
   "outputs": [],
   "source": [
    "modelspecname = 'wc.9x1.g-fir.1x15-lvl.1'"
   ]
  },
  {
   "cell_type": "markdown",
   "metadata": {},
   "source": [
    "Specialized function to load 2p data (may be slow!)"
   ]
  },
  {
   "cell_type": "code",
   "execution_count": null,
   "metadata": {},
   "outputs": [],
   "source": [
    "from nems.demo.loaders import load_polley_data\n",
    "r = load_polley_data(load_command=load_command,\n",
    "                respfile=respfile,\n",
    "                stimfile=stimfile,\n",
    "                exptid=exptid,\n",
    "                cellid=cellid)\n",
    "print(r.keys())\n",
    "print(r['stim'].shape)"
   ]
  },
  {
   "cell_type": "markdown",
   "metadata": {},
   "source": [
    "## DO THE FIT ##\n",
    "\n",
    "Define the `xforms` script for loading, fitting, and assessing performance"
   ]
  },
  {
   "cell_type": "code",
   "execution_count": 5,
   "metadata": {},
   "outputs": [],
   "source": [
    "# metadata describing the experiment that will be logged in the database if the model is saved\n",
    "meta = {'cellid': cellid, 'exptid': exptid, 'batch': batch, 'modelname': modelspecname}\n",
    "\n",
    "xfspec = []\n",
    "xfspec.append(['nems.xforms.load_recording_wrapper',\n",
    "               {'load_command': load_command,\n",
    "                'respfile': respfile,\n",
    "                'stimfile': stimfile,\n",
    "                'exptid': exptid,\n",
    "                'cellid': cellid}])\n",
    "\n",
    "# reserve 10% of the data for validation\n",
    "xfspec.append(['nems.xforms.split_at_time', {'valfrac': 0.1}])\n",
    "\n",
    "xfspec.append(['nems.xforms.init_from_keywords',\n",
    "               {'keywordstring': modelspecname, 'meta': meta}])\n",
    "\n",
    "xfspec.append(['nems.xforms.fit_basic_init', {}])\n",
    "xfspec.append(['nems.xforms.fit_basic', {}])\n",
    "xfspec.append(['nems.xforms.predict',    {}])\n",
    "# xfspec.append(['nems.xforms.add_summary_statistics',    {}])\n",
    "xfspec.append(['nems.analysis.api.standard_correlation', {},\n",
    "               ['est', 'val', 'modelspec', 'rec'], ['modelspec']])\n",
    "xfspec.append(['nems.xforms.plot_summary',    {}])\n"
   ]
  },
  {
   "cell_type": "markdown",
   "metadata": {},
   "source": [
    "First `xforms` command calls the loading function"
   ]
  },
  {
   "cell_type": "code",
   "execution_count": 6,
   "metadata": {},
   "outputs": [
    {
     "data": {
      "text/plain": [
       "['nems.xforms.load_recording_wrapper',\n",
       " {'load_command': 'nems.demo.loaders.load_polley_data',\n",
       "  'respfile': '/auto/users/svd/projects/nems_test/recordings/data_nems_2p/neurons.csv',\n",
       "  'stimfile': '/auto/users/svd/projects/nems_test/recordings/data_nems_2p/stim_spectrogram.csv',\n",
       "  'exptid': 'POL001',\n",
       "  'cellid': 'POL001-080'}]"
      ]
     },
     "execution_count": 6,
     "metadata": {},
     "output_type": "execute_result"
    }
   ],
   "source": [
    "xfspec[0]"
   ]
  },
  {
   "cell_type": "markdown",
   "metadata": {},
   "source": [
    "Here's the command that defines the `modelspec`"
   ]
  },
  {
   "cell_type": "code",
   "execution_count": 7,
   "metadata": {},
   "outputs": [
    {
     "data": {
      "text/plain": [
       "['nems.xforms.init_from_keywords',\n",
       " {'keywordstring': 'wc.9x1.g-fir.1x15-lvl.1',\n",
       "  'meta': {'cellid': 'POL001-080',\n",
       "   'exptid': 'POL001',\n",
       "   'batch': 1,\n",
       "   'modelname': 'wc.9x1.g-fir.1x15-lvl.1'}}]"
      ]
     },
     "execution_count": 7,
     "metadata": {},
     "output_type": "execute_result"
    }
   ],
   "source": [
    "xfspec[2]"
   ]
  },
  {
   "cell_type": "markdown",
   "metadata": {},
   "source": [
    "actually do the fit"
   ]
  },
  {
   "cell_type": "code",
   "execution_count": 8,
   "metadata": {},
   "outputs": [
    {
     "name": "stderr",
     "output_type": "stream",
     "text": [
      "[nems.xforms INFO] Evaluating: nems.xforms.load_recording_wrapper\n",
      "[nems.xforms INFO] Loading cached file /auto/users/svd/projects/nems_test/recordings/POL001_6d39a8c6f579f8762d24e0e88955bb216c6b5e0f.tgz\n",
      "[nems.xforms INFO] match found, extracting channel from rec\n",
      "[nems.xforms INFO] Evaluating: nems.xforms.split_at_time\n",
      "[nems.xforms INFO] Evaluating: nems.xforms.init_from_keywords\n",
      "[nems.initializers INFO] kw: wc.9x1.g\n",
      "[nems.initializers INFO] kw: fir.1x15\n",
      "[nems.initializers INFO] kw: lvl.1\n",
      "[nems.xforms INFO] Evaluating: nems.xforms.fit_basic_init\n",
      "[nems.initializers INFO] target_module: levelshift found at modelspec[2].\n",
      "[nems.fitters.fitter INFO] Starting sigma: [0.5, 0.3191538243211462, 0.0, 0.0, 0.0, 0.0, 0.0, 0.0, 0.0, 0.0, 0.0, 0.0, 0.0, 0.0, 0.0, 0.0, 0.0, 0.0]\n",
      "\n",
      "/home/svd/bin/miniconda3/envs/nems_test/lib/python3.6/site-packages/scipy/signal/signaltools.py:1341: FutureWarning: Using a non-tuple sequence for multidimensional indexing is deprecated; use `arr[tuple(seq)]` instead of `arr[seq]`. In the future this will be interpreted as an array index, `arr[np.array(seq)]`, which will result either in an error or a different result.\n",
      "  out_full[ind] += zi\n",
      "/home/svd/bin/miniconda3/envs/nems_test/lib/python3.6/site-packages/scipy/signal/signaltools.py:1344: FutureWarning: Using a non-tuple sequence for multidimensional indexing is deprecated; use `arr[tuple(seq)]` instead of `arr[seq]`. In the future this will be interpreted as an array index, `arr[np.array(seq)]`, which will result either in an error or a different result.\n",
      "  out = out_full[ind]\n",
      "/home/svd/bin/miniconda3/envs/nems_test/lib/python3.6/site-packages/scipy/signal/signaltools.py:1350: FutureWarning: Using a non-tuple sequence for multidimensional indexing is deprecated; use `arr[tuple(seq)]` instead of `arr[seq]`. In the future this will be interpreted as an array index, `arr[np.array(seq)]`, which will result either in an error or a different result.\n",
      "  zf = out_full[ind]\n",
      "[nems.analysis.cost_functions INFO] Eval #100. E=0.965832\n",
      "[nems.analysis.cost_functions INFO] Eval #200. E=0.925017\n",
      "[nems.analysis.cost_functions INFO] Eval #300. E=0.911724\n",
      "[nems.analysis.cost_functions INFO] Eval #400. E=0.903485\n",
      "[nems.analysis.cost_functions INFO] Eval #500. E=0.886265\n",
      "[nems.analysis.cost_functions INFO] Eval #600. E=0.948472\n",
      "[nems.analysis.cost_functions INFO] Eval #700. E=0.933194\n",
      "[nems.analysis.cost_functions INFO] Eval #800. E=1.002239\n",
      "[nems.analysis.cost_functions INFO] Eval #900. E=0.736171\n",
      "[nems.analysis.cost_functions INFO] Eval #1000. E=0.722927\n",
      "[nems.fitters.fitter INFO] Final error: 0.722509\n",
      "[nems.fitters.fitter INFO] Final sigma: [ 7.25276361e-01  1.01459195e-02  1.02648277e-03  9.82923762e-04\n",
      "  5.38527637e-03  4.01414951e-02  5.24619630e-02  2.19931395e-02\n",
      "  8.97817792e-03  4.70913004e-03  1.18955059e-03  2.86470614e-04\n",
      "  2.63846172e-04  5.37994130e-06 -2.83517108e-05 -4.95295374e-05\n",
      " -2.38514555e-05  2.04778201e-03]\n",
      "\n",
      "[nems.xforms INFO] Evaluating: nems.xforms.fit_basic\n",
      "[nems.fitters.fitter INFO] Starting sigma: [0.7252763612761863, 0.010145919509953357, 0.0010264827690453094, 0.0009829237619935198, 0.0053852763654742225, 0.04014149507554743, 0.05246196301247006, 0.021993139503513136, 0.008978177922468744, 0.004709130035158633, 0.0011895505905622145, 0.00028647061384619305, 0.0002638461717688501, 5.379941301312716e-06, -2.8351710765459343e-05, -4.95295374205263e-05, -2.3851455455578938e-05, 0.00204778200666834]\n",
      "\n",
      "[nems.fitters.fitter INFO] Final error: 0.722509\n",
      "[nems.fitters.fitter INFO] Final sigma: [ 7.25274766e-01  1.01468792e-02  1.02658862e-03  9.82896413e-04\n",
      "  5.38521579e-03  4.01412584e-02  5.24616198e-02  2.19931247e-02\n",
      "  8.97825066e-03  4.70916347e-03  1.18955533e-03  2.86510246e-04\n",
      "  2.63824840e-04  5.43391403e-06 -2.80866772e-05 -4.93692853e-05\n",
      " -2.37923940e-05  2.04788497e-03]\n",
      "\n",
      "[nems.xforms INFO] Evaluating: nems.xforms.predict\n",
      "[nems.xforms INFO] Evaluating: nems.analysis.api.standard_correlation\n",
      "[nems.xforms INFO] Evaluating: nems.xforms.plot_summary\n",
      "[nems.plots.quickplot INFO] Running quickplot\n",
      "[nems.plots.quickplot INFO] quickplot for SIGNAL epochs\n"
     ]
    },
    {
     "name": "stdout",
     "output_type": "stream",
     "text": [
      "CHANS: \n",
      "['4.0', '5.7', '8.0', '11.3', '16.0', '22.6', '32.0', '45.3', '64.0']\n"
     ]
    },
    {
     "name": "stderr",
     "output_type": "stream",
     "text": [
      "[nems.xforms INFO] Done (re-)evaluating xforms.\n"
     ]
    },
    {
     "data": {
      "image/png": "[encoded data removed]",
      "text/plain": [
       "<Figure size 720x864 with 5 Axes>"
      ]
     },
     "metadata": {},
     "output_type": "display_data"
    }
   ],
   "source": [
    "ctx, log_xf = xforms.evaluate(xfspec)\n",
    "\n",
    "# shorthand for iterating through each xfspec entry:\n",
    "# ctx = {}\n",
    "# for xfa in xfspec:\n",
    "#     ctx = xforms.evaluate_step(xfa, ctx)\n"
   ]
  },
  {
   "cell_type": "markdown",
   "metadata": {},
   "source": [
    "## LOOK AT THE RESULTS ##"
   ]
  },
  {
   "cell_type": "code",
   "execution_count": 9,
   "metadata": {},
   "outputs": [
    {
     "data": {
      "text/plain": [
       "{'resp': <nems.signal.RasterizedSignal at 0x7fbb6370e080>,\n",
       " 'stim': <nems.signal.RasterizedSignal at 0x7fbb6370e1d0>,\n",
       " 'pred': <nems.signal.RasterizedSignal at 0x7fbb636efb00>}"
      ]
     },
     "execution_count": 9,
     "metadata": {},
     "output_type": "execute_result"
    }
   ],
   "source": [
    "ctx['val'].signals"
   ]
  },
  {
   "cell_type": "code",
   "execution_count": 10,
   "metadata": {},
   "outputs": [
    {
     "data": {
      "text/plain": [
       "['nems.plots.api.mod_output', 'nems.plots.api.weight_channels_heatmap']"
      ]
     },
     "execution_count": 10,
     "metadata": {},
     "output_type": "execute_result"
    }
   ],
   "source": [
    "modelspec = ctx['modelspec']\n",
    "modelspec[0]['plot_fns']"
   ]
  },
  {
   "cell_type": "code",
   "execution_count": 11,
   "metadata": {},
   "outputs": [],
   "source": [
    "modelspec = ctx['modelspec']\n",
    "modelspec[0]['plot_fns'].append('nems.plots.api.spectrogram')\n",
    "modelspec[0]['plot_fn_idx']=2"
   ]
  },
  {
   "cell_type": "code",
   "execution_count": 12,
   "metadata": {},
   "outputs": [
    {
     "data": {
      "image/png": "[encoded data removed]",
      "text/plain": [
       "<Figure size 432x288 with 3 Axes>"
      ]
     },
     "metadata": {},
     "output_type": "display_data"
    }
   ],
   "source": [
    "# testing new plotting system\n",
    "modelspec[0]['plot_fn_idx']=2\n",
    "fig=modelspec.quickplot(ctx['val'])\n"
   ]
  },
  {
   "cell_type": "code",
   "execution_count": 13,
   "metadata": {},
   "outputs": [
    {
     "data": {
      "text/plain": [
       "{'cellid': 'POL001-080',\n",
       " 'exptid': 'POL001',\n",
       " 'batch': 1,\n",
       " 'modelname': 'wc.9x1.g-fir.1x15-lvl.1',\n",
       " 'fitter': 'fit_basic',\n",
       " 'fit_time': 0.8475844860076904,\n",
       " 'n_parms': 18,\n",
       " 'r_test': array([0.77566994]),\n",
       " 'se_test': array([0.03108066]),\n",
       " 'r_floor': array([0.0380764]),\n",
       " 'mse_test': array([0.66091728]),\n",
       " 'se_mse_test': array([0.02945958]),\n",
       " 'll_test': 0.4482404081957795,\n",
       " 'r_fit': array([0.6913715]),\n",
       " 'se_fit': array([0.01415284]),\n",
       " 'r_ceiling': 0,\n",
       " 'mse_fit': array([0.72251715]),\n",
       " 'se_mse_fit': array([0.01355246]),\n",
       " 'll_fit': 0.48364801153937}"
      ]
     },
     "execution_count": 13,
     "metadata": {},
     "output_type": "execute_result"
    }
   ],
   "source": [
    "modelspec.meta"
   ]
  },
  {
   "cell_type": "markdown",
   "metadata": {},
   "source": [
    "## SAVE YOUR RESULTS ##"
   ]
  },
  {
   "cell_type": "code",
   "execution_count": 14,
   "metadata": {},
   "outputs": [
    {
     "name": "stderr",
     "output_type": "stream",
     "text": [
      "[__main__ INFO] Saving modelspec(s) to /auto/users/svd/projects/nems_test/results/1/POL001-080/POL001.wc.9x1.g_fir.1x15_lvl.1.fit_basic.2018-12-05T235130 ...\n",
      "[__main__ INFO] Saving metadata to db  ...\n"
     ]
    },
    {
     "data": {
      "text/plain": [
       "2"
      ]
     },
     "execution_count": 14,
     "metadata": {},
     "output_type": "execute_result"
    }
   ],
   "source": [
    "# save results to file\n",
    "destination = os.path.join(results_dir, str(batch), xforms.get_meta(ctx)['cellid'],\n",
    "                           ms.get_modelspec_longname(ctx['modelspec']))\n",
    "log.info('Saving modelspec(s) to {0} ...'.format(destination))\n",
    "xforms.save_analysis(destination,\n",
    "                     recording=ctx['rec'],\n",
    "                     modelspec=ctx['modelspec'],\n",
    "                     xfspec=xfspec,\n",
    "                     figures=ctx['figures'],\n",
    "                     log=log_xf)\n",
    "\n",
    "# save summary of results to a database\n",
    "log.info('Saving metadata to db  ...')\n",
    "modelspec = ctx['modelspec']\n",
    "modelspec.meta['modelpath'] = destination\n",
    "modelspec.meta['figurefile'] = destination + 'figure.0000.png'\n",
    "nd.update_results_table(modelspec)\n",
    "    "
   ]
  },
  {
   "cell_type": "markdown",
   "metadata": {},
   "source": [
    "## RELOAD ##\n",
    "\n",
    "Load a model that has previously been saved. Specified uniquely by cellid/batch/modelspecname"
   ]
  },
  {
   "cell_type": "code",
   "execution_count": 2,
   "metadata": {},
   "outputs": [
    {
     "name": "stderr",
     "output_type": "stream",
     "text": [
      "[nems.xforms INFO] Loading modelspec from /auto/users/svd/projects/nems_test/results/1/POL001-080/unknown_recording.wc.9x1.g_fir.1x15_lvl.1.fit_basic.2018-12-05T210456/...\n",
      "[nems.xforms INFO] Evaluating: nems.xforms.load_recording_wrapper\n",
      "[nems.xforms INFO] Loading cached file /auto/users/svd/projects/nems_test/recordings/POL001_6d39a8c6f579f8762d24e0e88955bb216c6b5e0f.tgz\n",
      "[nems.xforms INFO] match found, extracting channel from rec\n",
      "[nems.xforms INFO] Evaluating: nems.xforms.split_at_time\n",
      "[nems.xforms INFO] Evaluating: nems.xforms.init_from_keywords\n",
      "[nems.xforms INFO] Evaluating: nems.xforms.fit_basic_init\n",
      "[nems.xforms INFO] Evaluating: nems.xforms.fit_basic\n",
      "[nems.xforms INFO] Evaluating: nems.xforms.predict\n",
      "/home/svd/bin/miniconda3/envs/nems_test/lib/python3.6/site-packages/scipy/signal/signaltools.py:1341: FutureWarning: Using a non-tuple sequence for multidimensional indexing is deprecated; use `arr[tuple(seq)]` instead of `arr[seq]`. In the future this will be interpreted as an array index, `arr[np.array(seq)]`, which will result either in an error or a different result.\n",
      "  out_full[ind] += zi\n",
      "/home/svd/bin/miniconda3/envs/nems_test/lib/python3.6/site-packages/scipy/signal/signaltools.py:1344: FutureWarning: Using a non-tuple sequence for multidimensional indexing is deprecated; use `arr[tuple(seq)]` instead of `arr[seq]`. In the future this will be interpreted as an array index, `arr[np.array(seq)]`, which will result either in an error or a different result.\n",
      "  out = out_full[ind]\n",
      "/home/svd/bin/miniconda3/envs/nems_test/lib/python3.6/site-packages/scipy/signal/signaltools.py:1350: FutureWarning: Using a non-tuple sequence for multidimensional indexing is deprecated; use `arr[tuple(seq)]` instead of `arr[seq]`. In the future this will be interpreted as an array index, `arr[np.array(seq)]`, which will result either in an error or a different result.\n",
      "  zf = out_full[ind]\n",
      "[nems.xforms INFO] Evaluating: nems.analysis.api.standard_correlation\n",
      "[nems.xforms INFO] Evaluating: nems.xforms.plot_summary\n",
      "[nems.xforms INFO] Done (re-)evaluating xforms.\n"
     ]
    }
   ],
   "source": [
    "# reload using:\n",
    "# repeated from above\n",
    "import nems.db as nd\n",
    "import nems.xforms as xforms\n",
    "\n",
    "# pick your cell/batch/model\n",
    "cellid = \"POL001-080\"\n",
    "batch = 1  # define the group of data this belong to (eg, 1: A1, 2: AAF, etc)\n",
    "modelspecname = 'wc.9x1.g-fir.1x15-lvl.1'\n",
    "\n",
    "# find the results in the database\n",
    "d=nd.get_results_file(batch=batch, cellids=[cellid], modelnames=[modelspecname])\n",
    "d.loc[0]\n",
    "filepath = d['modelpath'][0] + '/'\n",
    "\n",
    "# load and display results\n",
    "xfspec, ctx = xforms.load_analysis(filepath, eval_model=True)\n"
   ]
  },
  {
   "cell_type": "markdown",
   "metadata": {},
   "source": [
    "Query the database for all models fit for a single cell/batch:"
   ]
  },
  {
   "cell_type": "code",
   "execution_count": 20,
   "metadata": {},
   "outputs": [
    {
     "data": {
      "text/html": [
       "<div>\n",
       "<style scoped>\n",
       "    .dataframe tbody tr th:only-of-type {\n",
       "        vertical-align: middle;\n",
       "    }\n",
       "\n",
       "    .dataframe tbody tr th {\n",
       "        vertical-align: top;\n",
       "    }\n",
       "\n",
       "    .dataframe thead th {\n",
       "        text-align: right;\n",
       "    }\n",
       "</style>\n",
       "<table border=\"1\" class=\"dataframe\">\n",
       "  <thead>\n",
       "    <tr style=\"text-align: right;\">\n",
       "      <th></th>\n",
       "      <th>modelname</th>\n",
       "      <th>r_test</th>\n",
       "      <th>figurefile</th>\n",
       "    </tr>\n",
       "  </thead>\n",
       "  <tbody>\n",
       "    <tr>\n",
       "      <th>0</th>\n",
       "      <td>dlog-wc.9x2.g-fir.2x15-lvl.1</td>\n",
       "      <td>0.774614</td>\n",
       "      <td>/auto/users/svd/projects/nems_test/results/1/P...</td>\n",
       "    </tr>\n",
       "    <tr>\n",
       "      <th>1</th>\n",
       "      <td>wc.9x1.g-fir.1x15-lvl.1</td>\n",
       "      <td>0.775670</td>\n",
       "      <td>/auto/users/svd/projects/nems_test/results/1/P...</td>\n",
       "    </tr>\n",
       "  </tbody>\n",
       "</table>\n",
       "</div>"
      ],
      "text/plain": [
       "                      modelname    r_test  \\\n",
       "0  dlog-wc.9x2.g-fir.2x15-lvl.1  0.774614   \n",
       "1       wc.9x1.g-fir.1x15-lvl.1  0.775670   \n",
       "\n",
       "                                          figurefile  \n",
       "0  /auto/users/svd/projects/nems_test/results/1/P...  \n",
       "1  /auto/users/svd/projects/nems_test/results/1/P...  "
      ]
     },
     "execution_count": 20,
     "metadata": {},
     "output_type": "execute_result"
    }
   ],
   "source": [
    "import nems.db as nd\n",
    "import nems.xforms as xforms\n",
    "\n",
    "# pick your cell/batch/model\n",
    "cellid = \"POL001-080\"\n",
    "batch = 1  # define the group of data this belong to (eg, 1: A1, 2: AAF, etc)\n",
    "\n",
    "# find the results in the database\n",
    "d=nd.get_results_file(batch=batch, cellids=[cellid])\n",
    "d[['modelname','r_test','figurefile']]"
   ]
  },
  {
   "cell_type": "code",
   "execution_count": 6,
   "metadata": {},
   "outputs": [
    {
     "data": {
      "text/plain": [
       "{'cellid': 'POL001-080',\n",
       " 'batch': 1,\n",
       " 'modelname': 'wc.9x1.g-fir.1x15-lvl.1',\n",
       " 'fitter': 'fit_basic',\n",
       " 'fit_time': 0.44434118270874023,\n",
       " 'n_parms': 18,\n",
       " 'r_test': array([0.77566994]),\n",
       " 'se_test': array([0.03108066]),\n",
       " 'r_floor': array([0.04457513]),\n",
       " 'mse_test': array([0.66091728]),\n",
       " 'se_mse_test': array([0.02945958]),\n",
       " 'll_test': 0.4482404081957795,\n",
       " 'r_fit': array([0.6913715]),\n",
       " 'se_fit': array([0.01415284]),\n",
       " 'r_ceiling': 0,\n",
       " 'mse_fit': array([0.72251715]),\n",
       " 'se_mse_fit': array([0.01355246]),\n",
       " 'll_fit': 0.48364801153937,\n",
       " 'xfspec': '/auto/users/svd/projects/nems_test/results/1/POL001-080/unknown_recording.wc.9x1.g_fir.1x15_lvl.1.fit_basic.2018-12-05T210456/xfspec.json'}"
      ]
     },
     "execution_count": 6,
     "metadata": {},
     "output_type": "execute_result"
    }
   ],
   "source": [
    "modelspec=ctx['modelspec']\n",
    "modelspec.meta"
   ]
  }
 ],
 "metadata": {
  "kernelspec": {
   "display_name": "Python 3",
   "language": "python",
   "name": "python3"
  },
  "language_info": {
   "codemirror_mode": {
    "name": "ipython",
    "version": 3
   },
   "file_extension": ".py",
   "mimetype": "text/x-python",
   "name": "python",
   "nbconvert_exporter": "python",
   "pygments_lexer": "ipython3",
   "version": "3.6.7"
  }
 },
 "nbformat": 4,
 "nbformat_minor": 2
}
