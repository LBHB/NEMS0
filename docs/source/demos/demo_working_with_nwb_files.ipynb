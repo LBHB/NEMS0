{
 "cells": [
  {
   "cell_type": "markdown",
   "metadata": {},
   "source": [
    "# Working With NWB Files"
   ]
  },
  {
   "cell_type": "code",
   "execution_count": 1,
   "metadata": {},
   "outputs": [
    {
     "name": "stderr",
     "output_type": "stream",
     "text": [
      "[nems.configs.defaults INFO] Saving log messages to /tmp/nems/NEMS 2019-12-10 155251.log\n"
     ]
    }
   ],
   "source": [
    "from pathlib import Path\n",
    "import json\n",
    "\n",
    "import numpy as np\n",
    "import pandas as pd\n",
    "\n",
    "from allensdk.brain_observatory.ecephys.ecephys_project_cache import EcephysProjectCache\n",
    "from allensdk.brain_observatory.ecephys.ecephys_session import EcephysSession\n",
    "\n",
    "from allensdk.brain_observatory.ecephys import nwb  # for compat\n",
    "import pynwb\n",
    "from pynwb import NWBHDF5IO\n",
    "\n",
    "import nems\n",
    "from nems.recording import Recording\n",
    "from nems.signal import PointProcess\n",
    "\n",
    "import h5py\n",
    "\n",
    "from matplotlib import pyplot as plt"
   ]
  },
  {
   "cell_type": "markdown",
   "metadata": {},
   "source": [
    "## Generate session and get metadata"
   ]
  },
  {
   "cell_type": "code",
   "execution_count": 2,
   "metadata": {},
   "outputs": [],
   "source": [
    "data_dir = Path(r'data')\n",
    "manifest_path = data_dir / 'manifest.json'"
   ]
  },
  {
   "cell_type": "markdown",
   "metadata": {},
   "source": [
    "`manifest.json` is where the library keeps a record of previously downloaded files. If it doesn't exists in location you specify, it will be created\n",
    "the first time you create the cache object. Otherwise, when you request data, the library will check the manifest to see if it's been downloaded."
   ]
  },
  {
   "cell_type": "code",
   "execution_count": 3,
   "metadata": {},
   "outputs": [],
   "source": [
    "# assert manifest_path.exists()"
   ]
  },
  {
   "cell_type": "code",
   "execution_count": 4,
   "metadata": {},
   "outputs": [
    {
     "name": "stderr",
     "output_type": "stream",
     "text": [
      "[call_caching INFO] Reading data from cache\n",
      "[call_caching INFO] Reading data from cache\n",
      "[call_caching INFO] Reading data from cache\n",
      "[call_caching INFO] Reading data from cache\n",
      "[call_caching INFO] Reading data from cache\n",
      "[numexpr.utils INFO] NumExpr defaulting to 8 threads.\n",
      "[call_caching INFO] Reading data from cache\n",
      "[call_caching INFO] Reading data from cache\n",
      "[call_caching INFO] Reading data from cache\n",
      "[call_caching INFO] Reading data from cache\n",
      "[call_caching INFO] Reading data from cache\n",
      "[call_caching INFO] Reading data from cache\n",
      "[call_caching INFO] Reading data from cache\n",
      "[call_caching INFO] Reading data from cache\n"
     ]
    }
   ],
   "source": [
    "cache = EcephysProjectCache.from_warehouse(manifest=manifest_path)\n",
    "sessions = cache.get_session_table()"
   ]
  },
  {
   "cell_type": "markdown",
   "metadata": {},
   "source": [
    "## Download data from session"
   ]
  },
  {
   "cell_type": "markdown",
   "metadata": {},
   "source": [
    "You can edit the download criteria to filter out the data. Downloading the data can take several minutes."
   ]
  },
  {
   "cell_type": "code",
   "execution_count": 5,
   "metadata": {},
   "outputs": [
    {
     "name": "stderr",
     "output_type": "stream",
     "text": [
      "[call_caching INFO] Reading data from cache\n",
      "[call_caching INFO] Reading data from cache\n",
      "[call_caching INFO] Reading data from cache\n",
      "[call_caching INFO] Reading data from cache\n",
      "[call_caching INFO] Reading data from cache\n",
      "[call_caching INFO] Reading data from cache\n",
      "[call_caching INFO] Reading data from cache\n",
      "[call_caching INFO] Reading data from cache\n",
      "[call_caching INFO] Reading data from cache\n",
      "[call_caching INFO] Reading data from cache\n",
      "[call_caching INFO] Reading data from cache\n",
      "[call_caching INFO] Reading data from cache\n",
      "[call_caching INFO] Reading data from cache\n"
     ]
    }
   ],
   "source": [
    "# 21 is just a random number, for this example notebook\n",
    "session = cache.get_session_data(sessions.iloc[21].name,\n",
    "                                 isi_violations_maximum=np.inf,\n",
    "                                 amplitude_cutoff_maximum=np.inf,\n",
    "                                 presence_ratio_minimum=-np.inf\n",
    "                                )"
   ]
  },
  {
   "cell_type": "markdown",
   "metadata": {},
   "source": [
    "This is the epochs table. It applies to all the units."
   ]
  },
  {
   "cell_type": "code",
   "execution_count": 6,
   "metadata": {},
   "outputs": [
    {
     "data": {
      "text/html": [
       "<div>\n",
       "<style scoped>\n",
       "    .dataframe tbody tr th:only-of-type {\n",
       "        vertical-align: middle;\n",
       "    }\n",
       "\n",
       "    .dataframe tbody tr th {\n",
       "        vertical-align: top;\n",
       "    }\n",
       "\n",
       "    .dataframe thead th {\n",
       "        text-align: right;\n",
       "    }\n",
       "</style>\n",
       "<table border=\"1\" class=\"dataframe\">\n",
       "  <thead>\n",
       "    <tr style=\"text-align: right;\">\n",
       "      <th></th>\n",
       "      <th>color</th>\n",
       "      <th>contrast</th>\n",
       "      <th>frame</th>\n",
       "      <th>orientation</th>\n",
       "      <th>phase</th>\n",
       "      <th>pos</th>\n",
       "      <th>size</th>\n",
       "      <th>spatial_frequency</th>\n",
       "      <th>start_time</th>\n",
       "      <th>stimulus_block</th>\n",
       "      <th>stimulus_name</th>\n",
       "      <th>stop_time</th>\n",
       "      <th>temporal_frequency</th>\n",
       "      <th>x_position</th>\n",
       "      <th>y_position</th>\n",
       "      <th>duration</th>\n",
       "      <th>stimulus_condition_id</th>\n",
       "    </tr>\n",
       "    <tr>\n",
       "      <th>stimulus_presentation_id</th>\n",
       "      <th></th>\n",
       "      <th></th>\n",
       "      <th></th>\n",
       "      <th></th>\n",
       "      <th></th>\n",
       "      <th></th>\n",
       "      <th></th>\n",
       "      <th></th>\n",
       "      <th></th>\n",
       "      <th></th>\n",
       "      <th></th>\n",
       "      <th></th>\n",
       "      <th></th>\n",
       "      <th></th>\n",
       "      <th></th>\n",
       "      <th></th>\n",
       "      <th></th>\n",
       "    </tr>\n",
       "  </thead>\n",
       "  <tbody>\n",
       "    <tr>\n",
       "      <th>0</th>\n",
       "      <td>null</td>\n",
       "      <td>null</td>\n",
       "      <td>null</td>\n",
       "      <td>null</td>\n",
       "      <td>null</td>\n",
       "      <td>null</td>\n",
       "      <td>null</td>\n",
       "      <td>null</td>\n",
       "      <td>24.752216</td>\n",
       "      <td>null</td>\n",
       "      <td>spontaneous</td>\n",
       "      <td>84.818986</td>\n",
       "      <td>null</td>\n",
       "      <td>null</td>\n",
       "      <td>null</td>\n",
       "      <td>60.066770</td>\n",
       "      <td>0</td>\n",
       "    </tr>\n",
       "    <tr>\n",
       "      <th>1</th>\n",
       "      <td>null</td>\n",
       "      <td>0.8</td>\n",
       "      <td>null</td>\n",
       "      <td>45</td>\n",
       "      <td>[3644.93333333, 3644.93333333]</td>\n",
       "      <td>[-30.0, 40.0]</td>\n",
       "      <td>[20.0, 20.0]</td>\n",
       "      <td>0.08</td>\n",
       "      <td>84.818986</td>\n",
       "      <td>0</td>\n",
       "      <td>gabors</td>\n",
       "      <td>85.052505</td>\n",
       "      <td>4</td>\n",
       "      <td>0</td>\n",
       "      <td>10</td>\n",
       "      <td>0.233520</td>\n",
       "      <td>1</td>\n",
       "    </tr>\n",
       "    <tr>\n",
       "      <th>2</th>\n",
       "      <td>null</td>\n",
       "      <td>0.8</td>\n",
       "      <td>null</td>\n",
       "      <td>0</td>\n",
       "      <td>[3644.93333333, 3644.93333333]</td>\n",
       "      <td>[-30.0, 40.0]</td>\n",
       "      <td>[20.0, 20.0]</td>\n",
       "      <td>0.08</td>\n",
       "      <td>85.052505</td>\n",
       "      <td>0</td>\n",
       "      <td>gabors</td>\n",
       "      <td>85.302704</td>\n",
       "      <td>4</td>\n",
       "      <td>20</td>\n",
       "      <td>40</td>\n",
       "      <td>0.250199</td>\n",
       "      <td>2</td>\n",
       "    </tr>\n",
       "    <tr>\n",
       "      <th>3</th>\n",
       "      <td>null</td>\n",
       "      <td>0.8</td>\n",
       "      <td>null</td>\n",
       "      <td>0</td>\n",
       "      <td>[3644.93333333, 3644.93333333]</td>\n",
       "      <td>[-30.0, 40.0]</td>\n",
       "      <td>[20.0, 20.0]</td>\n",
       "      <td>0.08</td>\n",
       "      <td>85.302704</td>\n",
       "      <td>0</td>\n",
       "      <td>gabors</td>\n",
       "      <td>85.552904</td>\n",
       "      <td>4</td>\n",
       "      <td>-40</td>\n",
       "      <td>40</td>\n",
       "      <td>0.250199</td>\n",
       "      <td>3</td>\n",
       "    </tr>\n",
       "    <tr>\n",
       "      <th>4</th>\n",
       "      <td>null</td>\n",
       "      <td>0.8</td>\n",
       "      <td>null</td>\n",
       "      <td>90</td>\n",
       "      <td>[3644.93333333, 3644.93333333]</td>\n",
       "      <td>[-30.0, 40.0]</td>\n",
       "      <td>[20.0, 20.0]</td>\n",
       "      <td>0.08</td>\n",
       "      <td>85.552904</td>\n",
       "      <td>0</td>\n",
       "      <td>gabors</td>\n",
       "      <td>85.803103</td>\n",
       "      <td>4</td>\n",
       "      <td>10</td>\n",
       "      <td>30</td>\n",
       "      <td>0.250199</td>\n",
       "      <td>4</td>\n",
       "    </tr>\n",
       "  </tbody>\n",
       "</table>\n",
       "</div>"
      ],
      "text/plain": [
       "                         color contrast frame orientation  \\\n",
       "stimulus_presentation_id                                    \n",
       "0                         null     null  null        null   \n",
       "1                         null      0.8  null          45   \n",
       "2                         null      0.8  null           0   \n",
       "3                         null      0.8  null           0   \n",
       "4                         null      0.8  null          90   \n",
       "\n",
       "                                                   phase            pos  \\\n",
       "stimulus_presentation_id                                                  \n",
       "0                                                   null           null   \n",
       "1                         [3644.93333333, 3644.93333333]  [-30.0, 40.0]   \n",
       "2                         [3644.93333333, 3644.93333333]  [-30.0, 40.0]   \n",
       "3                         [3644.93333333, 3644.93333333]  [-30.0, 40.0]   \n",
       "4                         [3644.93333333, 3644.93333333]  [-30.0, 40.0]   \n",
       "\n",
       "                                  size spatial_frequency  start_time  \\\n",
       "stimulus_presentation_id                                               \n",
       "0                                 null              null   24.752216   \n",
       "1                         [20.0, 20.0]              0.08   84.818986   \n",
       "2                         [20.0, 20.0]              0.08   85.052505   \n",
       "3                         [20.0, 20.0]              0.08   85.302704   \n",
       "4                         [20.0, 20.0]              0.08   85.552904   \n",
       "\n",
       "                         stimulus_block stimulus_name  stop_time  \\\n",
       "stimulus_presentation_id                                           \n",
       "0                                  null   spontaneous  84.818986   \n",
       "1                                     0        gabors  85.052505   \n",
       "2                                     0        gabors  85.302704   \n",
       "3                                     0        gabors  85.552904   \n",
       "4                                     0        gabors  85.803103   \n",
       "\n",
       "                         temporal_frequency x_position y_position   duration  \\\n",
       "stimulus_presentation_id                                                       \n",
       "0                                      null       null       null  60.066770   \n",
       "1                                         4          0         10   0.233520   \n",
       "2                                         4         20         40   0.250199   \n",
       "3                                         4        -40         40   0.250199   \n",
       "4                                         4         10         30   0.250199   \n",
       "\n",
       "                          stimulus_condition_id  \n",
       "stimulus_presentation_id                         \n",
       "0                                             0  \n",
       "1                                             1  \n",
       "2                                             2  \n",
       "3                                             3  \n",
       "4                                             4  "
      ]
     },
     "execution_count": 6,
     "metadata": {},
     "output_type": "execute_result"
    }
   ],
   "source": [
    "# this can be slow depending on the size of the data\n",
    "presentation_table = session.stimulus_presentations\n",
    "presentation_table.head()"
   ]
  },
  {
   "cell_type": "markdown",
   "metadata": {},
   "source": [
    "Included is metadata about each unit, as a pandas dataframe."
   ]
  },
  {
   "cell_type": "code",
   "execution_count": 7,
   "metadata": {},
   "outputs": [
    {
     "name": "stderr",
     "output_type": "stream",
     "text": [
      "[call_caching INFO] Reading data from cache\n",
      "[call_caching INFO] Reading data from cache\n",
      "[call_caching INFO] Reading data from cache\n",
      "[call_caching INFO] Reading data from cache\n",
      "[call_caching INFO] Reading data from cache\n",
      "[call_caching INFO] Reading data from cache\n",
      "[call_caching INFO] Reading data from cache\n",
      "[call_caching INFO] Reading data from cache\n",
      "[call_caching INFO] Reading data from cache\n",
      "[call_caching INFO] Reading data from cache\n",
      "[call_caching INFO] Reading data from cache\n",
      "[call_caching INFO] Reading data from cache\n",
      "[call_caching INFO] Reading data from cache\n",
      "[call_caching INFO] Reading data from cache\n",
      "[call_caching INFO] Reading data from cache\n"
     ]
    },
    {
     "data": {
      "text/html": [
       "<div>\n",
       "<style scoped>\n",
       "    .dataframe tbody tr th:only-of-type {\n",
       "        vertical-align: middle;\n",
       "    }\n",
       "\n",
       "    .dataframe tbody tr th {\n",
       "        vertical-align: top;\n",
       "    }\n",
       "\n",
       "    .dataframe thead th {\n",
       "        text-align: right;\n",
       "    }\n",
       "</style>\n",
       "<table border=\"1\" class=\"dataframe\">\n",
       "  <thead>\n",
       "    <tr style=\"text-align: right;\">\n",
       "      <th></th>\n",
       "      <th>waveform_duration</th>\n",
       "      <th>firing_rate</th>\n",
       "      <th>waveform_PT_ratio</th>\n",
       "      <th>d_prime</th>\n",
       "      <th>waveform_recovery_slope</th>\n",
       "      <th>waveform_velocity_below</th>\n",
       "      <th>presence_ratio</th>\n",
       "      <th>L_ratio</th>\n",
       "      <th>waveform_amplitude</th>\n",
       "      <th>max_drift</th>\n",
       "      <th>...</th>\n",
       "      <th>ecephys_structure_id</th>\n",
       "      <th>ecephys_structure_acronym</th>\n",
       "      <th>anterior_posterior_ccf_coordinate</th>\n",
       "      <th>dorsal_ventral_ccf_coordinate</th>\n",
       "      <th>left_right_ccf_coordinate</th>\n",
       "      <th>probe_description</th>\n",
       "      <th>location</th>\n",
       "      <th>probe_sampling_rate</th>\n",
       "      <th>probe_lfp_sampling_rate</th>\n",
       "      <th>probe_has_lfp_data</th>\n",
       "    </tr>\n",
       "    <tr>\n",
       "      <th>unit_id</th>\n",
       "      <th></th>\n",
       "      <th></th>\n",
       "      <th></th>\n",
       "      <th></th>\n",
       "      <th></th>\n",
       "      <th></th>\n",
       "      <th></th>\n",
       "      <th></th>\n",
       "      <th></th>\n",
       "      <th></th>\n",
       "      <th></th>\n",
       "      <th></th>\n",
       "      <th></th>\n",
       "      <th></th>\n",
       "      <th></th>\n",
       "      <th></th>\n",
       "      <th></th>\n",
       "      <th></th>\n",
       "      <th></th>\n",
       "      <th></th>\n",
       "      <th></th>\n",
       "    </tr>\n",
       "  </thead>\n",
       "  <tbody>\n",
       "    <tr>\n",
       "      <th>951853174</th>\n",
       "      <td>0.219765</td>\n",
       "      <td>19.441146</td>\n",
       "      <td>0.199007</td>\n",
       "      <td>6.714259</td>\n",
       "      <td>-0.049973</td>\n",
       "      <td>0.206030</td>\n",
       "      <td>0.99</td>\n",
       "      <td>0.000089</td>\n",
       "      <td>84.471855</td>\n",
       "      <td>48.84</td>\n",
       "      <td>...</td>\n",
       "      <td>215.0</td>\n",
       "      <td>APN</td>\n",
       "      <td>7928</td>\n",
       "      <td>3129</td>\n",
       "      <td>7167</td>\n",
       "      <td>probeA</td>\n",
       "      <td></td>\n",
       "      <td>29999.96621</td>\n",
       "      <td>1249.998592</td>\n",
       "      <td>True</td>\n",
       "    </tr>\n",
       "    <tr>\n",
       "      <th>951853190</th>\n",
       "      <td>0.137353</td>\n",
       "      <td>10.267881</td>\n",
       "      <td>0.734993</td>\n",
       "      <td>2.744475</td>\n",
       "      <td>-0.154760</td>\n",
       "      <td>-0.431682</td>\n",
       "      <td>0.99</td>\n",
       "      <td>0.137435</td>\n",
       "      <td>95.045925</td>\n",
       "      <td>50.17</td>\n",
       "      <td>...</td>\n",
       "      <td>215.0</td>\n",
       "      <td>APN</td>\n",
       "      <td>7908</td>\n",
       "      <td>3068</td>\n",
       "      <td>7169</td>\n",
       "      <td>probeA</td>\n",
       "      <td></td>\n",
       "      <td>29999.96621</td>\n",
       "      <td>1249.998592</td>\n",
       "      <td>True</td>\n",
       "    </tr>\n",
       "    <tr>\n",
       "      <th>951853197</th>\n",
       "      <td>0.151089</td>\n",
       "      <td>10.161642</td>\n",
       "      <td>0.625356</td>\n",
       "      <td>3.389818</td>\n",
       "      <td>-0.102740</td>\n",
       "      <td>-0.343384</td>\n",
       "      <td>0.99</td>\n",
       "      <td>0.073114</td>\n",
       "      <td>73.191495</td>\n",
       "      <td>47.14</td>\n",
       "      <td>...</td>\n",
       "      <td>215.0</td>\n",
       "      <td>APN</td>\n",
       "      <td>7905</td>\n",
       "      <td>3060</td>\n",
       "      <td>7169</td>\n",
       "      <td>probeA</td>\n",
       "      <td></td>\n",
       "      <td>29999.96621</td>\n",
       "      <td>1249.998592</td>\n",
       "      <td>True</td>\n",
       "    </tr>\n",
       "    <tr>\n",
       "      <th>951853216</th>\n",
       "      <td>0.563149</td>\n",
       "      <td>6.664585</td>\n",
       "      <td>0.645313</td>\n",
       "      <td>5.647242</td>\n",
       "      <td>-0.024678</td>\n",
       "      <td>0.286153</td>\n",
       "      <td>0.99</td>\n",
       "      <td>0.009056</td>\n",
       "      <td>45.769815</td>\n",
       "      <td>32.12</td>\n",
       "      <td>...</td>\n",
       "      <td>215.0</td>\n",
       "      <td>APN</td>\n",
       "      <td>7866</td>\n",
       "      <td>2948</td>\n",
       "      <td>7168</td>\n",
       "      <td>probeA</td>\n",
       "      <td></td>\n",
       "      <td>29999.96621</td>\n",
       "      <td>1249.998592</td>\n",
       "      <td>True</td>\n",
       "    </tr>\n",
       "    <tr>\n",
       "      <th>951853225</th>\n",
       "      <td>0.576884</td>\n",
       "      <td>9.174408</td>\n",
       "      <td>0.558268</td>\n",
       "      <td>4.388771</td>\n",
       "      <td>-0.033880</td>\n",
       "      <td>0.073582</td>\n",
       "      <td>0.99</td>\n",
       "      <td>0.017206</td>\n",
       "      <td>57.620160</td>\n",
       "      <td>38.75</td>\n",
       "      <td>...</td>\n",
       "      <td>215.0</td>\n",
       "      <td>APN</td>\n",
       "      <td>7854</td>\n",
       "      <td>2913</td>\n",
       "      <td>7167</td>\n",
       "      <td>probeA</td>\n",
       "      <td></td>\n",
       "      <td>29999.96621</td>\n",
       "      <td>1249.998592</td>\n",
       "      <td>True</td>\n",
       "    </tr>\n",
       "  </tbody>\n",
       "</table>\n",
       "<p>5 rows × 89 columns</p>\n",
       "</div>"
      ],
      "text/plain": [
       "           waveform_duration  firing_rate  waveform_PT_ratio   d_prime  \\\n",
       "unit_id                                                                  \n",
       "951853174           0.219765    19.441146           0.199007  6.714259   \n",
       "951853190           0.137353    10.267881           0.734993  2.744475   \n",
       "951853197           0.151089    10.161642           0.625356  3.389818   \n",
       "951853216           0.563149     6.664585           0.645313  5.647242   \n",
       "951853225           0.576884     9.174408           0.558268  4.388771   \n",
       "\n",
       "           waveform_recovery_slope  waveform_velocity_below  presence_ratio  \\\n",
       "unit_id                                                                       \n",
       "951853174                -0.049973                 0.206030            0.99   \n",
       "951853190                -0.154760                -0.431682            0.99   \n",
       "951853197                -0.102740                -0.343384            0.99   \n",
       "951853216                -0.024678                 0.286153            0.99   \n",
       "951853225                -0.033880                 0.073582            0.99   \n",
       "\n",
       "            L_ratio  waveform_amplitude  max_drift  ...  ecephys_structure_id  \\\n",
       "unit_id                                             ...                         \n",
       "951853174  0.000089           84.471855      48.84  ...                 215.0   \n",
       "951853190  0.137435           95.045925      50.17  ...                 215.0   \n",
       "951853197  0.073114           73.191495      47.14  ...                 215.0   \n",
       "951853216  0.009056           45.769815      32.12  ...                 215.0   \n",
       "951853225  0.017206           57.620160      38.75  ...                 215.0   \n",
       "\n",
       "           ecephys_structure_acronym  anterior_posterior_ccf_coordinate  \\\n",
       "unit_id                                                                   \n",
       "951853174                        APN                               7928   \n",
       "951853190                        APN                               7908   \n",
       "951853197                        APN                               7905   \n",
       "951853216                        APN                               7866   \n",
       "951853225                        APN                               7854   \n",
       "\n",
       "           dorsal_ventral_ccf_coordinate  left_right_ccf_coordinate  \\\n",
       "unit_id                                                               \n",
       "951853174                           3129                       7167   \n",
       "951853190                           3068                       7169   \n",
       "951853197                           3060                       7169   \n",
       "951853216                           2948                       7168   \n",
       "951853225                           2913                       7167   \n",
       "\n",
       "           probe_description  location  probe_sampling_rate  \\\n",
       "unit_id                                                       \n",
       "951853174             probeA                    29999.96621   \n",
       "951853190             probeA                    29999.96621   \n",
       "951853197             probeA                    29999.96621   \n",
       "951853216             probeA                    29999.96621   \n",
       "951853225             probeA                    29999.96621   \n",
       "\n",
       "           probe_lfp_sampling_rate  probe_has_lfp_data  \n",
       "unit_id                                                 \n",
       "951853174              1249.998592                True  \n",
       "951853190              1249.998592                True  \n",
       "951853197              1249.998592                True  \n",
       "951853216              1249.998592                True  \n",
       "951853225              1249.998592                True  \n",
       "\n",
       "[5 rows x 89 columns]"
      ]
     },
     "execution_count": 7,
     "metadata": {},
     "output_type": "execute_result"
    }
   ],
   "source": [
    "session.units.head()"
   ]
  },
  {
   "cell_type": "markdown",
   "metadata": {},
   "source": [
    "Spike times are stored in a dictionary, with the unit IDs as keys and arrays for the spike times."
   ]
  },
  {
   "cell_type": "code",
   "execution_count": 8,
   "metadata": {},
   "outputs": [
    {
     "name": "stderr",
     "output_type": "stream",
     "text": [
      "[call_caching INFO] Reading data from cache\n",
      "[call_caching INFO] Reading data from cache\n",
      "[call_caching INFO] Reading data from cache\n",
      "[call_caching INFO] Reading data from cache\n",
      "[call_caching INFO] Reading data from cache\n",
      "[call_caching INFO] Reading data from cache\n",
      "[call_caching INFO] Reading data from cache\n"
     ]
    },
    {
     "data": {
      "text/plain": [
       "array([3.79479685e+00, 3.80853020e+00, 3.80933020e+00, ...,\n",
       "       9.62280203e+03, 9.62339993e+03, 9.62352627e+03])"
      ]
     },
     "execution_count": 8,
     "metadata": {},
     "output_type": "execute_result"
    }
   ],
   "source": [
    "# this is a large dict, so let's just look at one key\n",
    "session.spike_times[951853174]"
   ]
  },
  {
   "cell_type": "markdown",
   "metadata": {},
   "source": [
    "## Loading existing NWB files with session"
   ]
  },
  {
   "cell_type": "markdown",
   "metadata": {},
   "source": [
    "If you've previously downloaded data, you can avoid the cache creation and just create a session from an NWB file."
   ]
  },
  {
   "cell_type": "code",
   "execution_count": 9,
   "metadata": {},
   "outputs": [],
   "source": [
    "nwb_filepath = Path(r'/auto/users/tomlinsa/code/allen/data/session_760345702/session_760345702.nwb')\n",
    "assert nwb_filepath.exists()"
   ]
  },
  {
   "cell_type": "code",
   "execution_count": 10,
   "metadata": {},
   "outputs": [],
   "source": [
    "session = EcephysSession.from_nwb_path(str(nwb_filepath), api_kwargs={\n",
    "        \"amplitude_cutoff_maximum\": np.inf,\n",
    "        \"presence_ratio_minimum\": -np.inf,\n",
    "        \"isi_violations_maximum\": np.inf\n",
    "    })"
   ]
  },
  {
   "cell_type": "code",
   "execution_count": 11,
   "metadata": {},
   "outputs": [],
   "source": [
    "# session.stimulus_presentations"
   ]
  },
  {
   "cell_type": "markdown",
   "metadata": {},
   "source": [
    "## or from NWB file (preffered)"
   ]
  },
  {
   "cell_type": "markdown",
   "metadata": {},
   "source": [
    "This is the raw data. The session method of getting the data does it's own formatting of the dataframes."
   ]
  },
  {
   "cell_type": "code",
   "execution_count": 12,
   "metadata": {},
   "outputs": [],
   "source": [
    "nwb_filepath = Path(r'/auto/users/tomlinsa/code/allen/data/session_760345702/session_760345702.nwb')\n",
    "assert nwb_filepath.exists()"
   ]
  },
  {
   "cell_type": "code",
   "execution_count": 13,
   "metadata": {},
   "outputs": [],
   "source": [
    "io = NWBHDF5IO(str(nwb_filepath), 'r')\n",
    "nwbfile = io.read()"
   ]
  },
  {
   "cell_type": "code",
   "execution_count": 14,
   "metadata": {},
   "outputs": [
    {
     "data": {
      "text/plain": [
       "{'metadata': \n",
       " metadata <class 'allensdk.brain_observatory.ecephys.nwb.EcephysLabMetaData'>\n",
       " Fields:\n",
       "   age_in_days: 103.0\n",
       "   full_genotype: Pvalb-IRES-Cre/wt;Ai32(RCL-ChR2(H134R)_EYFP)/wt\n",
       "   sex: M\n",
       "   specimen_name: Pvalb-IRES-Cre;Ai32-407972\n",
       "   stimulus_name: brain_observatory_1.1\n",
       "   strain: C57BL/6J}"
      ]
     },
     "execution_count": 14,
     "metadata": {},
     "output_type": "execute_result"
    }
   ],
   "source": [
    "nwbfile.lab_meta_data"
   ]
  },
  {
   "cell_type": "markdown",
   "metadata": {},
   "source": [
    "The rest of the attributes are still accessible."
   ]
  },
  {
   "cell_type": "code",
   "execution_count": 15,
   "metadata": {},
   "outputs": [],
   "source": [
    "# nwbfile.units\n",
    "# nwbfile.epochs\n",
    "# nwbfile.stimulus_presentations"
   ]
  },
  {
   "cell_type": "markdown",
   "metadata": {},
   "source": [
    "## Load into NEMS"
   ]
  },
  {
   "cell_type": "code",
   "execution_count": 16,
   "metadata": {},
   "outputs": [
    {
     "name": "stderr",
     "output_type": "stream",
     "text": [
      "[nems.recording INFO] Loading NWB file with format \"neuropixel\" from \"/auto/users/tomlinsa/code/allen/data/session_760345702/session_760345702.nwb\".\n",
      "[nems.recording INFO] Successfully loaded nwb file.\n"
     ]
    }
   ],
   "source": [
    "r = Recording.from_nwb(nwb_filepath, 'neuropixel')"
   ]
  },
  {
   "cell_type": "markdown",
   "metadata": {},
   "source": [
    "All of the usual attributes are accessible."
   ]
  },
  {
   "cell_type": "code",
   "execution_count": 17,
   "metadata": {},
   "outputs": [
    {
     "data": {
      "text/html": [
       "<div>\n",
       "<style scoped>\n",
       "    .dataframe tbody tr th:only-of-type {\n",
       "        vertical-align: middle;\n",
       "    }\n",
       "\n",
       "    .dataframe tbody tr th {\n",
       "        vertical-align: top;\n",
       "    }\n",
       "\n",
       "    .dataframe thead th {\n",
       "        text-align: right;\n",
       "    }\n",
       "</style>\n",
       "<table border=\"1\" class=\"dataframe\">\n",
       "  <thead>\n",
       "    <tr style=\"text-align: right;\">\n",
       "      <th></th>\n",
       "      <th>start</th>\n",
       "      <th>end</th>\n",
       "      <th>name</th>\n",
       "      <th>stimulus_block</th>\n",
       "      <th>temporal_frequency</th>\n",
       "      <th>x_position</th>\n",
       "      <th>y_position</th>\n",
       "      <th>color</th>\n",
       "      <th>colorSpace</th>\n",
       "      <th>depth</th>\n",
       "      <th>...</th>\n",
       "      <th>tex</th>\n",
       "      <th>texRes</th>\n",
       "      <th>units</th>\n",
       "      <th>stimulus_index</th>\n",
       "      <th>orientation</th>\n",
       "      <th>spatial_frequency</th>\n",
       "      <th>frame</th>\n",
       "      <th>contrast</th>\n",
       "      <th>flipHoriz</th>\n",
       "      <th>flipVert</th>\n",
       "    </tr>\n",
       "  </thead>\n",
       "  <tbody>\n",
       "    <tr>\n",
       "      <th>0</th>\n",
       "      <td>24.752216</td>\n",
       "      <td>84.818986</td>\n",
       "      <td>spontaneous</td>\n",
       "      <td>NaN</td>\n",
       "      <td>NaN</td>\n",
       "      <td>NaN</td>\n",
       "      <td>NaN</td>\n",
       "      <td></td>\n",
       "      <td></td>\n",
       "      <td>NaN</td>\n",
       "      <td>...</td>\n",
       "      <td></td>\n",
       "      <td>NaN</td>\n",
       "      <td></td>\n",
       "      <td>NaN</td>\n",
       "      <td>NaN</td>\n",
       "      <td></td>\n",
       "      <td>NaN</td>\n",
       "      <td>NaN</td>\n",
       "      <td>NaN</td>\n",
       "      <td>NaN</td>\n",
       "    </tr>\n",
       "    <tr>\n",
       "      <th>1</th>\n",
       "      <td>84.818986</td>\n",
       "      <td>85.052505</td>\n",
       "      <td>gabors</td>\n",
       "      <td>0.0</td>\n",
       "      <td>4.0</td>\n",
       "      <td>0.0</td>\n",
       "      <td>10.0</td>\n",
       "      <td>[1.0, 1.0, 1.0]</td>\n",
       "      <td>rgb</td>\n",
       "      <td>0.0</td>\n",
       "      <td>...</td>\n",
       "      <td>sin</td>\n",
       "      <td>256.0</td>\n",
       "      <td>deg</td>\n",
       "      <td>0.0</td>\n",
       "      <td>45.0</td>\n",
       "      <td>0.08</td>\n",
       "      <td>NaN</td>\n",
       "      <td>0.8</td>\n",
       "      <td>NaN</td>\n",
       "      <td>NaN</td>\n",
       "    </tr>\n",
       "    <tr>\n",
       "      <th>2</th>\n",
       "      <td>85.052505</td>\n",
       "      <td>85.302704</td>\n",
       "      <td>gabors</td>\n",
       "      <td>0.0</td>\n",
       "      <td>4.0</td>\n",
       "      <td>20.0</td>\n",
       "      <td>40.0</td>\n",
       "      <td>[1.0, 1.0, 1.0]</td>\n",
       "      <td>rgb</td>\n",
       "      <td>0.0</td>\n",
       "      <td>...</td>\n",
       "      <td>sin</td>\n",
       "      <td>256.0</td>\n",
       "      <td>deg</td>\n",
       "      <td>0.0</td>\n",
       "      <td>0.0</td>\n",
       "      <td>0.08</td>\n",
       "      <td>NaN</td>\n",
       "      <td>0.8</td>\n",
       "      <td>NaN</td>\n",
       "      <td>NaN</td>\n",
       "    </tr>\n",
       "    <tr>\n",
       "      <th>3</th>\n",
       "      <td>85.302704</td>\n",
       "      <td>85.552904</td>\n",
       "      <td>gabors</td>\n",
       "      <td>0.0</td>\n",
       "      <td>4.0</td>\n",
       "      <td>-40.0</td>\n",
       "      <td>40.0</td>\n",
       "      <td>[1.0, 1.0, 1.0]</td>\n",
       "      <td>rgb</td>\n",
       "      <td>0.0</td>\n",
       "      <td>...</td>\n",
       "      <td>sin</td>\n",
       "      <td>256.0</td>\n",
       "      <td>deg</td>\n",
       "      <td>0.0</td>\n",
       "      <td>0.0</td>\n",
       "      <td>0.08</td>\n",
       "      <td>NaN</td>\n",
       "      <td>0.8</td>\n",
       "      <td>NaN</td>\n",
       "      <td>NaN</td>\n",
       "    </tr>\n",
       "    <tr>\n",
       "      <th>4</th>\n",
       "      <td>85.552904</td>\n",
       "      <td>85.803103</td>\n",
       "      <td>gabors</td>\n",
       "      <td>0.0</td>\n",
       "      <td>4.0</td>\n",
       "      <td>10.0</td>\n",
       "      <td>30.0</td>\n",
       "      <td>[1.0, 1.0, 1.0]</td>\n",
       "      <td>rgb</td>\n",
       "      <td>0.0</td>\n",
       "      <td>...</td>\n",
       "      <td>sin</td>\n",
       "      <td>256.0</td>\n",
       "      <td>deg</td>\n",
       "      <td>0.0</td>\n",
       "      <td>90.0</td>\n",
       "      <td>0.08</td>\n",
       "      <td>NaN</td>\n",
       "      <td>0.8</td>\n",
       "      <td>NaN</td>\n",
       "      <td>NaN</td>\n",
       "    </tr>\n",
       "  </tbody>\n",
       "</table>\n",
       "<p>5 rows × 27 columns</p>\n",
       "</div>"
      ],
      "text/plain": [
       "       start        end         name  stimulus_block  temporal_frequency  \\\n",
       "0  24.752216  84.818986  spontaneous             NaN                 NaN   \n",
       "1  84.818986  85.052505       gabors             0.0                 4.0   \n",
       "2  85.052505  85.302704       gabors             0.0                 4.0   \n",
       "3  85.302704  85.552904       gabors             0.0                 4.0   \n",
       "4  85.552904  85.803103       gabors             0.0                 4.0   \n",
       "\n",
       "   x_position  y_position            color colorSpace  depth  ...  tex texRes  \\\n",
       "0         NaN         NaN                                NaN  ...         NaN   \n",
       "1         0.0        10.0  [1.0, 1.0, 1.0]        rgb    0.0  ...  sin  256.0   \n",
       "2        20.0        40.0  [1.0, 1.0, 1.0]        rgb    0.0  ...  sin  256.0   \n",
       "3       -40.0        40.0  [1.0, 1.0, 1.0]        rgb    0.0  ...  sin  256.0   \n",
       "4        10.0        30.0  [1.0, 1.0, 1.0]        rgb    0.0  ...  sin  256.0   \n",
       "\n",
       "   units stimulus_index orientation spatial_frequency frame contrast  \\\n",
       "0                   NaN         NaN                     NaN      NaN   \n",
       "1    deg            0.0        45.0              0.08   NaN      0.8   \n",
       "2    deg            0.0         0.0              0.08   NaN      0.8   \n",
       "3    deg            0.0         0.0              0.08   NaN      0.8   \n",
       "4    deg            0.0        90.0              0.08   NaN      0.8   \n",
       "\n",
       "   flipHoriz flipVert  \n",
       "0        NaN      NaN  \n",
       "1        NaN      NaN  \n",
       "2        NaN      NaN  \n",
       "3        NaN      NaN  \n",
       "4        NaN      NaN  \n",
       "\n",
       "[5 rows x 27 columns]"
      ]
     },
     "execution_count": 17,
     "metadata": {},
     "output_type": "execute_result"
    }
   ],
   "source": [
    "r.epochs.head()"
   ]
  },
  {
   "cell_type": "code",
   "execution_count": 18,
   "metadata": {},
   "outputs": [
    {
     "data": {
      "text/plain": [
       "{'specimen_name': 'Pvalb-IRES-Cre;Ai32-407972',\n",
       " 'age_in_days': 103.0,\n",
       " 'full_genotype': 'Pvalb-IRES-Cre/wt;Ai32(RCL-ChR2(H134R)_EYFP)/wt',\n",
       " 'strain': 'C57BL/6J',\n",
       " 'sex': 'M',\n",
       " 'stimulus_name': 'brain_observatory_1.1',\n",
       " 'uri': '/auto/users/tomlinsa/code/allen/data/session_760345702/session_760345702.nwb'}"
      ]
     },
     "execution_count": 18,
     "metadata": {},
     "output_type": "execute_result"
    }
   ],
   "source": [
    "r.meta"
   ]
  },
  {
   "cell_type": "markdown",
   "metadata": {},
   "source": [
    "All of the spike times are saved into a single `PointProcess` signal."
   ]
  },
  {
   "cell_type": "code",
   "execution_count": 19,
   "metadata": {},
   "outputs": [
    {
     "data": {
      "text/plain": [
       "{'session_760345702': <nems.signal.PointProcess at 0x7fd3ea723f98>}"
      ]
     },
     "execution_count": 19,
     "metadata": {},
     "output_type": "execute_result"
    }
   ],
   "source": [
    "r.signals"
   ]
  },
  {
   "cell_type": "code",
   "execution_count": 20,
   "metadata": {},
   "outputs": [
    {
     "data": {
      "text/plain": [
       "1784"
      ]
     },
     "execution_count": 20,
     "metadata": {},
     "output_type": "execute_result"
    }
   ],
   "source": [
    "signal = r.signals['session_760345702']\n",
    "signal.nchans"
   ]
  },
  {
   "cell_type": "markdown",
   "metadata": {},
   "source": [
    "Each channel key is the unit ID from the units dataframe of the NWB file"
   ]
  },
  {
   "cell_type": "code",
   "execution_count": 21,
   "metadata": {},
   "outputs": [
    {
     "data": {
      "text/plain": [
       "array([  10.2351168 ,   11.66955413,   11.69268753, ..., 9612.18553725,\n",
       "       9612.20010396, 9620.83476135])"
      ]
     },
     "execution_count": 21,
     "metadata": {},
     "output_type": "execute_result"
    }
   ],
   "source": [
    "# ex, unit 951843010\n",
    "signal._data[951843010]"
   ]
  },
  {
   "cell_type": "markdown",
   "metadata": {},
   "source": [
    "The `units` metadata is saved into the meta of the signal."
   ]
  },
  {
   "cell_type": "code",
   "execution_count": 22,
   "metadata": {},
   "outputs": [
    {
     "data": {
      "text/plain": [
       "{'waveform_duration': 0.755443886097152,\n",
       " 'firing_rate': 1.74113707219344,\n",
       " 'PT_ratio': 0.00729943086142739,\n",
       " 'd_prime': nan,\n",
       " 'recovery_slope': -0.00895206089461061,\n",
       " 'quality': 'noise',\n",
       " 'velocity_below': 1.03015075376884,\n",
       " 'presence_ratio': 0.99,\n",
       " 'l_ratio': 0.0,\n",
       " 'amplitude': 51.4938450000001,\n",
       " 'max_drift': 23.6,\n",
       " 'snr': 1.92770330724404,\n",
       " 'nn_hit_rate': nan,\n",
       " 'spread': 60.0,\n",
       " 'nn_miss_rate': nan,\n",
       " 'cumulative_drift': 615.49,\n",
       " 'waveform_halfwidth': 0.357118927973199,\n",
       " 'isolation_distance': nan,\n",
       " 'isi_violations': 1.06689648479891,\n",
       " 'silhouette_score': 0.0759991877886951,\n",
       " 'local_index': 263,\n",
       " 'amplitude_cutoff': 0.268061054461112,\n",
       " 'repolarization_slope': 0.122863156143529,\n",
       " 'cluster_id': 267,\n",
       " 'velocity_above': 1.37353433835846,\n",
       " 'peak_channel_id': 850096152}"
      ]
     },
     "execution_count": 22,
     "metadata": {},
     "output_type": "execute_result"
    }
   ],
   "source": [
    "# ex, unit 951843010\n",
    "signal.meta[951843010]"
   ]
  },
  {
   "cell_type": "markdown",
   "metadata": {},
   "source": [
    "## Get stimulus images"
   ]
  },
  {
   "cell_type": "markdown",
   "metadata": {},
   "source": [
    "For example, frame 100 from `natural_scenes`, as in this random row:"
   ]
  },
  {
   "cell_type": "code",
   "execution_count": 23,
   "metadata": {},
   "outputs": [
    {
     "data": {
      "text/html": [
       "<div>\n",
       "<style scoped>\n",
       "    .dataframe tbody tr th:only-of-type {\n",
       "        vertical-align: middle;\n",
       "    }\n",
       "\n",
       "    .dataframe tbody tr th {\n",
       "        vertical-align: top;\n",
       "    }\n",
       "\n",
       "    .dataframe thead th {\n",
       "        text-align: right;\n",
       "    }\n",
       "</style>\n",
       "<table border=\"1\" class=\"dataframe\">\n",
       "  <thead>\n",
       "    <tr style=\"text-align: right;\">\n",
       "      <th></th>\n",
       "      <th>start</th>\n",
       "      <th>end</th>\n",
       "      <th>name</th>\n",
       "      <th>frame</th>\n",
       "    </tr>\n",
       "  </thead>\n",
       "  <tbody>\n",
       "    <tr>\n",
       "      <th>51357</th>\n",
       "      <td>5910.169789</td>\n",
       "      <td>5910.420001</td>\n",
       "      <td>natural_scenes</td>\n",
       "      <td>100.0</td>\n",
       "    </tr>\n",
       "  </tbody>\n",
       "</table>\n",
       "</div>"
      ],
      "text/plain": [
       "             start          end            name  frame\n",
       "51357  5910.169789  5910.420001  natural_scenes  100.0"
      ]
     },
     "execution_count": 23,
     "metadata": {},
     "output_type": "execute_result"
    }
   ],
   "source": [
    "r.epochs.loc[[51357], ['start', 'end', 'name', 'frame']]  # list loc to keep as df"
   ]
  },
  {
   "cell_type": "code",
   "execution_count": 24,
   "metadata": {},
   "outputs": [
    {
     "name": "stderr",
     "output_type": "stream",
     "text": [
      "[call_caching INFO] Reading data from cache\n"
     ]
    }
   ],
   "source": [
    "im = cache.get_natural_scene_template(100)"
   ]
  },
  {
   "cell_type": "code",
   "execution_count": 25,
   "metadata": {},
   "outputs": [
    {
     "data": {
      "text/plain": [
       "<matplotlib.image.AxesImage at 0x7fd3ea60bf60>"
      ]
     },
     "execution_count": 25,
     "metadata": {},
     "output_type": "execute_result"
    },
    {
     "data": {
      "image/png": "[encoded data removed]",
      "text/plain": [
       "<Figure size 432x288 with 1 Axes>"
      ]
     },
     "metadata": {
      "needs_background": "light"
     },
     "output_type": "display_data"
    }
   ],
   "source": [
    "plt.imshow(im, cmap=plt.cm.gray)"
   ]
  }
 ],
 "metadata": {
  "kernelspec": {
   "display_name": "nems-gpu",
   "language": "python",
   "name": "nems-gpu"
  },
  "language_info": {
   "codemirror_mode": {
    "name": "ipython",
    "version": 3
   },
   "file_extension": ".py",
   "mimetype": "text/x-python",
   "name": "python",
   "nbconvert_exporter": "python",
   "pygments_lexer": "ipython3",
   "version": "3.6.10"
  }
 },
 "nbformat": 4,
 "nbformat_minor": 4
}
