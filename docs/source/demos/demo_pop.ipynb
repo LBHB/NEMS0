{
 "cells": [
  {
   "cell_type": "markdown",
   "metadata": {},
   "source": [
    "# Population Models"
   ]
  },
  {
   "cell_type": "markdown",
   "metadata": {},
   "source": [
    "This notebook demonstrates how to work with population models. See `xforms Demo` for details on xforms."
   ]
  },
  {
   "cell_type": "code",
   "execution_count": 1,
   "metadata": {},
   "outputs": [
    {
     "name": "stderr",
     "output_type": "stream",
     "text": [
      "[nems.configs.defaults INFO] Saving log messages to /tmp/nems\\NEMS 2020-05-28 135123.log\n"
     ]
    }
   ],
   "source": [
    "from pathlib import Path\n",
    "\n",
    "import nems.uri\n",
    "import nems.xforms as xforms\n",
    "import nems.recording as recording"
   ]
  },
  {
   "cell_type": "markdown",
   "metadata": {},
   "source": [
    "## Configuration"
   ]
  },
  {
   "cell_type": "code",
   "execution_count": 2,
   "metadata": {},
   "outputs": [],
   "source": [
    "# get the data and results paths\n",
    "results_dir = nems.get_setting('NEMS_RESULTS_DIR')\n",
    "signals_dir = nems.get_setting('NEMS_RECORDINGS_DIR')"
   ]
  },
  {
   "cell_type": "code",
   "execution_count": 3,
   "metadata": {},
   "outputs": [],
   "source": [
    "# download some demo data\n",
    "recording.get_demo_recordings(signals_dir, 'TAR010c.NAT.fs100.tgz')\n",
    "datafile = Path(signals_dir) / 'TAR010c.NAT.fs100.tgz'"
   ]
  },
  {
   "cell_type": "markdown",
   "metadata": {},
   "source": [
    "## Data Loading and Preprocessing"
   ]
  },
  {
   "cell_type": "code",
   "execution_count": 4,
   "metadata": {},
   "outputs": [],
   "source": [
    "load_command = 'nems.demo.loaders.demo_loader'\n",
    "exptid = 'TAR010c'\n",
    "batch = 271\n",
    "siteid = 'TAR010c-18-2'"
   ]
  },
  {
   "cell_type": "markdown",
   "metadata": {},
   "source": [
    "In pop models, you can specify a variable number of outputs using `R`, and the model will determine the proper number of output channels."
   ]
  },
  {
   "cell_type": "code",
   "execution_count": 5,
   "metadata": {},
   "outputs": [],
   "source": [
    "modelspec_name = 'dlog-wc.18x3.g-fir.1x10x3-relu.3-wc.3xR-lvl.R'"
   ]
  },
  {
   "cell_type": "markdown",
   "metadata": {},
   "source": [
    "## Generate the Modelspec"
   ]
  },
  {
   "cell_type": "code",
   "execution_count": 17,
   "metadata": {},
   "outputs": [],
   "source": [
    "meta = {'siteid': siteid, 'batch': batch, 'modelname': modelspec_name,\n",
    "        'recording': exptid}\n",
    "\n",
    "xforms_init_context = {'siteid': siteid, 'batch': int(batch)}\n",
    "xforms_init_context['keywordstring'] = modelspec_name\n",
    "xforms_init_context['meta'] = meta\n",
    "xforms_init_context['recording_uri_list'] = [str(datafile)]"
   ]
  },
  {
   "cell_type": "code",
   "execution_count": 18,
   "metadata": {},
   "outputs": [],
   "source": [
    "xfspec = []"
   ]
  },
  {
   "cell_type": "code",
   "execution_count": 19,
   "metadata": {},
   "outputs": [],
   "source": [
    "xfspec.append(['nems.xforms.init_context', xforms_init_context])\n",
    "xfspec.append(['nems.xforms.load_recordings', {}])\n",
    "xfspec.append(['nems.preprocessing.resp_to_pc',\n",
    "              {'pc_source': 'psth', 'overwrite_resp': False,\n",
    "               'pc_count': 2}])\n",
    "xfspec.append(['nems.xforms.split_by_occurrence_counts',\n",
    "               {'epoch_regex': '^STIM_'}])\n",
    "xfspec.append(['nems.xforms.average_away_stim_occurrences', {}])\n",
    "\n",
    "xfspec.append(['nems.xforms.init_from_keywords', {}])"
   ]
  },
  {
   "cell_type": "code",
   "execution_count": 20,
   "metadata": {},
   "outputs": [],
   "source": [
    "xfspec.append(['nems.analysis.fit_pop_model.init_pop_pca', {'flip_pcs': True}])\n",
    "\n",
    "xfspec.append(['nems.analysis.fit_pop_model.fit_population_iteratively',\n",
    "               {'fitter': 'scipy_minimize', 'tolerances': [1e-4, 3e-5],\n",
    "                'tol_iter': 50, 'fit_iter': 10}])"
   ]
  },
  {
   "cell_type": "code",
   "execution_count": 21,
   "metadata": {},
   "outputs": [],
   "source": [
    "xfspec.append(['nems.xforms.predict', {}])\n",
    "xfspec.append(['nems.analysis.api.standard_correlation', {},\n",
    "               ['est', 'val', 'modelspec', 'rec'], ['modelspec']])\n",
    "xfspec.append(['nems.xforms.plot_summary', {}])"
   ]
  },
  {
   "cell_type": "markdown",
   "metadata": {},
   "source": [
    "## Run the Analysis"
   ]
  },
  {
   "cell_type": "code",
   "execution_count": null,
   "metadata": {},
   "outputs": [],
   "source": [
    "ctx = {}\n",
    "for xfa in xfspec:\n",
    "    ctx = xforms.evaluate_step(xfa, ctx)"
   ]
  },
  {
   "cell_type": "code",
   "execution_count": null,
   "metadata": {},
   "outputs": [],
   "source": []
  }
 ],
 "metadata": {
  "kernelspec": {
   "display_name": "nems-gpu",
   "language": "python",
   "name": "nems-gpu"
  },
  "language_info": {
   "codemirror_mode": {
    "name": "ipython",
    "version": 3
   },
   "file_extension": ".py",
   "mimetype": "text/x-python",
   "name": "python",
   "nbconvert_exporter": "python",
   "pygments_lexer": "ipython3",
   "version": "3.6.10"
  }
 },
 "nbformat": 4,
 "nbformat_minor": 4
}
