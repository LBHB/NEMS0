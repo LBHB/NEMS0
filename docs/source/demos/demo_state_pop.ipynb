{
 "cells": [
  {
   "cell_type": "markdown",
   "metadata": {},
   "source": [
    "# State Population"
   ]
  },
  {
   "cell_type": "markdown",
   "metadata": {},
   "source": [
    "This notebook demonstrates how to model state and population effects when fitting models. See `xforms Demo` for details on xforms."
   ]
  },
  {
   "cell_type": "code",
   "execution_count": 1,
   "metadata": {},
   "outputs": [
    {
     "name": "stderr",
     "output_type": "stream",
     "text": [
      "[nems.configs.defaults INFO] Saving log messages to /tmp/nems\\NEMS 2020-05-29 153249.log\n"
     ]
    }
   ],
   "source": [
    "from pathlib import Path\n",
    "\n",
    "import nems.uri\n",
    "import nems.xforms as xforms\n",
    "import nems.recording as recording"
   ]
  },
  {
   "cell_type": "markdown",
   "metadata": {},
   "source": [
    "## Configuration"
   ]
  },
  {
   "cell_type": "code",
   "execution_count": 2,
   "metadata": {},
   "outputs": [],
   "source": [
    "# get the data and results paths\n",
    "results_dir = nems.get_setting('NEMS_RESULTS_DIR')\n",
    "signals_dir = nems.get_setting('NEMS_RECORDINGS_DIR')"
   ]
  },
  {
   "cell_type": "code",
   "execution_count": 3,
   "metadata": {},
   "outputs": [],
   "source": [
    "# download some demo data\n",
    "recording.get_demo_recordings(signals_dir, 'TAR010c.NAT.fs100.tgz')\n",
    "datafile = Path(signals_dir) / 'TAR010c.NAT.fs100.tgz'"
   ]
  },
  {
   "cell_type": "markdown",
   "metadata": {},
   "source": [
    "## Data Loading and Preprocessing"
   ]
  },
  {
   "cell_type": "code",
   "execution_count": 4,
   "metadata": {},
   "outputs": [],
   "source": [
    "exptid = 'TAR010c'\n",
    "batch = 271\n",
    "cellid = 'TAR010c-18-2'"
   ]
  },
  {
   "cell_type": "code",
   "execution_count": 5,
   "metadata": {},
   "outputs": [],
   "source": [
    "modelspecname = 'stategain.SxN'"
   ]
  },
  {
   "cell_type": "markdown",
   "metadata": {},
   "source": [
    "## Generate the Modelspec"
   ]
  },
  {
   "cell_type": "code",
   "execution_count": 6,
   "metadata": {},
   "outputs": [],
   "source": [
    "meta = {'cellid': cellid, 'batch': batch, 'modelname': modelspecname,\n",
    "        'recording': exptid}\n",
    "\n",
    "state_signals = [\"pupil\", \"active\", \"population\", \"pupil_x_population\", \"active_x_population\"]\n",
    "jk_kwargs = {'njacks': 5}\n",
    "xforms_init_context = {'cellid': cellid, 'batch': int(batch)}\n",
    "xforms_init_context['keywordstring'] = modelspecname\n",
    "xforms_init_context['meta'] = meta\n",
    "xforms_init_context['recording_uri_list'] = [str(datafile)]"
   ]
  },
  {
   "cell_type": "code",
   "execution_count": 7,
   "metadata": {},
   "outputs": [],
   "source": [
    "xfspec = []"
   ]
  },
  {
   "cell_type": "code",
   "execution_count": 8,
   "metadata": {},
   "outputs": [],
   "source": [
    "xfspec.append(['nems.xforms.init_context', xforms_init_context])\n",
    "xfspec.append(['nems.xforms.load_recordings', {\"save_other_cells_to_state\": \"population\"}])\n",
    "xfspec.append(['nems.xforms.make_state_signal',\n",
    "              {'state_signals': state_signals, 'permute_signals': []}])\n",
    "xfspec.append([\"nems.xforms.mask_all_but_correct_references\", {}])\n",
    "xfspec.append([\"nems.xforms.generate_psth_from_resp\", {\"smooth_resp\": False, \"use_as_input\": True, \"epoch_regex\": \"^STIM_\"}])\n",
    "xfspec.append(['nems.xforms.init_from_keywords', {}])\n",
    "xfspec.append(['nems.xforms.mask_for_jackknife', jk_kwargs])\n",
    "xfspec.append(['nems.xforms.fit_basic', {}])"
   ]
  },
  {
   "cell_type": "code",
   "execution_count": 9,
   "metadata": {},
   "outputs": [],
   "source": [
    "# test and visualize\n",
    "xfspec.append(['nems.xforms.predict', {}])\n",
    "xfspec.append(['nems.xforms.add_summary_statistics', {}])\n",
    "xfspec.append(['nems.xforms.plot_summary', {}])"
   ]
  },
  {
   "cell_type": "markdown",
   "metadata": {},
   "source": [
    "## Run the Analysis"
   ]
  },
  {
   "cell_type": "code",
   "execution_count": null,
   "metadata": {},
   "outputs": [],
   "source": [
    "ctx = {}\n",
    "for xfa in xfspec:\n",
    "    ctx = xforms.evaluate_step(xfa, ctx)"
   ]
  }
 ],
 "metadata": {
  "kernelspec": {
   "display_name": "nems-gpu",
   "language": "python",
   "name": "nems-gpu"
  },
  "language_info": {
   "codemirror_mode": {
    "name": "ipython",
    "version": 3
   },
   "file_extension": ".py",
   "mimetype": "text/x-python",
   "name": "python",
   "nbconvert_exporter": "python",
   "pygments_lexer": "ipython3",
   "version": "3.6.10"
  }
 },
 "nbformat": 4,
 "nbformat_minor": 4
}
